{
 "cells": [
  {
   "cell_type": "markdown",
   "metadata": {},
   "source": [
    "# Sparkify 项目 Workspace\n",
    "这个 Workspace 包括一个迷你的子数据集（128MB），是完整数据集（12GB）的一个子集。在将你的项目部署到云上之前，你可以自由使用 Workspace 来创建你的项目或用Spark来探索这个较小数据集。设置 Spark 集群的指南可以在选修 Spark 课程的内容里找到。\n",
    "\n",
    "你可以依照下面的步骤进行项目的数据分析和模型搭建部分。"
   ]
  },
  {
   "cell_type": "code",
   "execution_count": 1,
   "metadata": {},
   "outputs": [],
   "source": [
    "# import libraries\n",
    "from pyspark.sql import SparkSession\n",
    "from pyspark.sql.functions import isnan, count, when, col, desc, udf, col, sort_array, asc, avg, trim, max, min, isnull\n",
    "from pyspark.sql.functions import sum as Fsum\n",
    "from pyspark.sql.window import Window\n",
    "from pyspark.sql.types import IntegerType\n",
    "\n",
    "from pyspark.ml import Pipeline\n",
    "from pyspark.ml.classification import LogisticRegression, RandomForestClassifier, GBTClassifier, \\\n",
    "                                    DecisionTreeClassifier, NaiveBayes\n",
    "from pyspark.ml.evaluation import BinaryClassificationEvaluator\n",
    "from pyspark.ml.feature import CountVectorizer, IDF, Normalizer, PCA, RegexTokenizer,\\\n",
    "                                    StandardScaler, StopWordsRemover, StringIndexer, VectorAssembler\n",
    "from pyspark.ml.regression import LinearRegression\n",
    "from pyspark.ml.tuning import CrossValidator, ParamGridBuilder\n",
    "\n",
    "import datetime\n",
    "\n",
    "import numpy as np\n",
    "import pandas as pd\n",
    "%matplotlib inline\n",
    "import matplotlib.pyplot as plt\n",
    "import seaborn as sns"
   ]
  },
  {
   "cell_type": "code",
   "execution_count": 2,
   "metadata": {},
   "outputs": [
    {
     "data": {
      "text/plain": [
       "[Row(artist='Martha Tilston', auth='Logged In', firstName='Colin', gender='M', itemInSession=50, lastName='Freeman', length=277.89016, level='paid', location='Bakersfield, CA', method='PUT', page='NextSong', registration=1538173362000, sessionId=29, song='Rockpools', status=200, ts=1538352117000, userAgent='Mozilla/5.0 (Windows NT 6.1; WOW64; rv:31.0) Gecko/20100101 Firefox/31.0', userId='30'),\n",
       " Row(artist='Five Iron Frenzy', auth='Logged In', firstName='Micah', gender='M', itemInSession=79, lastName='Long', length=236.09424, level='free', location='Boston-Cambridge-Newton, MA-NH', method='PUT', page='NextSong', registration=1538331630000, sessionId=8, song='Canada', status=200, ts=1538352180000, userAgent='\"Mozilla/5.0 (Windows NT 6.1; WOW64) AppleWebKit/537.36 (KHTML, like Gecko) Chrome/37.0.2062.103 Safari/537.36\"', userId='9')]"
      ]
     },
     "execution_count": 2,
     "metadata": {},
     "output_type": "execute_result"
    }
   ],
   "source": [
    "# create a Spark session\n",
    "spark = SparkSession.builder.appName('Sparkify').getOrCreate()\n",
    "df = spark.read.json('./mini_sparkify_event_data.json')\n",
    "df.take(2)"
   ]
  },
  {
   "cell_type": "markdown",
   "metadata": {},
   "source": [
    "# 加载和清洗数据\n",
    "在这个 Workspace 中，小数据集的名称是 `mini_sparkify_event_data.json`.加载和清洗数据集，检查是否有无效或缺失数据——例如，没有userid或sessionid的数据。 "
   ]
  },
  {
   "cell_type": "code",
   "execution_count": 3,
   "metadata": {
    "scrolled": true
   },
   "outputs": [
    {
     "name": "stdout",
     "output_type": "stream",
     "text": [
      "+------+----+---------+------+-------------+--------+------+-----+--------+------+----+------------+---------+-----+------+---+---------+------+\n",
      "|artist|auth|firstName|gender|itemInSession|lastName|length|level|location|method|page|registration|sessionId| song|status| ts|userAgent|userId|\n",
      "+------+----+---------+------+-------------+--------+------+-----+--------+------+----+------------+---------+-----+------+---+---------+------+\n",
      "| 58392|   0|     8346|  8346|            0|    8346| 58392|    0|    8346|     0|   0|        8346|        0|58392|     0|  0|     8346|     0|\n",
      "+------+----+---------+------+-------------+--------+------+-----+--------+------+----+------------+---------+-----+------+---+---------+------+\n",
      "\n"
     ]
    }
   ],
   "source": [
    "# 查看数据中是否有空值\n",
    "df.select([count(when(isnan(c) | isnull(c),c)).alias(c) for c in df.columns]).show()"
   ]
  },
  {
   "cell_type": "code",
   "execution_count": 4,
   "metadata": {
    "scrolled": false
   },
   "outputs": [
    {
     "name": "stdout",
     "output_type": "stream",
     "text": [
      "+------+----+---------+------+-------------+--------+------+-----+--------+------+----+------------+---------+----+------+---+---------+------+\n",
      "|artist|auth|firstName|gender|itemInSession|lastName|length|level|location|method|page|registration|sessionId|song|status| ts|userAgent|userId|\n",
      "+------+----+---------+------+-------------+--------+------+-----+--------+------+----+------------+---------+----+------+---+---------+------+\n",
      "|     0|   0|        0|     0|            0|       0|     0|    0|       0|     0|   0|           0|        0|   0|     0|  0|        0|  8346|\n",
      "+------+----+---------+------+-------------+--------+------+-----+--------+------+----+------------+---------+----+------+---+---------+------+\n",
      "\n"
     ]
    }
   ],
   "source": [
    "# 查看数据是否有空格\n",
    "df.select([count(when(trim(col(c)) == \"\",c)).alias(c) for c in df.columns]).show()"
   ]
  },
  {
   "cell_type": "code",
   "execution_count": 5,
   "metadata": {},
   "outputs": [
    {
     "name": "stdout",
     "output_type": "stream",
     "text": [
      "+------+----+---------+------+-------------+--------+------+-----+--------+------+----+------------+---------+----+------+---+---------+------+\n",
      "|artist|auth|firstName|gender|itemInSession|lastName|length|level|location|method|page|registration|sessionId|song|status| ts|userAgent|userId|\n",
      "+------+----+---------+------+-------------+--------+------+-----+--------+------+----+------------+---------+----+------+---+---------+------+\n",
      "|     0|   0|        0|     0|         3278|       0|     1|    0|       0|     0|   0|           0|        0|   0|     0|  0|        0|     0|\n",
      "+------+----+---------+------+-------------+--------+------+-----+--------+------+----+------------+---------+----+------+---+---------+------+\n",
      "\n"
     ]
    }
   ],
   "source": [
    "# 查看数据是否有0值\n",
    "df.select([count(when(trim(col(c)) == 0,c)).alias(c) for c in df.columns]).show()"
   ]
  },
  {
   "cell_type": "code",
   "execution_count": 6,
   "metadata": {},
   "outputs": [
    {
     "data": {
      "text/plain": [
       "286500"
      ]
     },
     "execution_count": 6,
     "metadata": {},
     "output_type": "execute_result"
    }
   ],
   "source": [
    "df.count()"
   ]
  },
  {
   "cell_type": "code",
   "execution_count": 7,
   "metadata": {},
   "outputs": [
    {
     "data": {
      "text/plain": [
       "278154"
      ]
     },
     "execution_count": 7,
     "metadata": {},
     "output_type": "execute_result"
    }
   ],
   "source": [
    "# 去掉userId为空的项\n",
    "df = df.where(df.userId!=\"\")\n",
    "df.count()"
   ]
  },
  {
   "cell_type": "code",
   "execution_count": 8,
   "metadata": {
    "scrolled": true
   },
   "outputs": [
    {
     "name": "stdout",
     "output_type": "stream",
     "text": [
      "root\n",
      " |-- artist: string (nullable = true)\n",
      " |-- auth: string (nullable = true)\n",
      " |-- firstName: string (nullable = true)\n",
      " |-- gender: string (nullable = true)\n",
      " |-- itemInSession: long (nullable = true)\n",
      " |-- lastName: string (nullable = true)\n",
      " |-- length: double (nullable = true)\n",
      " |-- level: string (nullable = true)\n",
      " |-- location: string (nullable = true)\n",
      " |-- method: string (nullable = true)\n",
      " |-- page: string (nullable = true)\n",
      " |-- registration: long (nullable = true)\n",
      " |-- sessionId: long (nullable = true)\n",
      " |-- song: string (nullable = true)\n",
      " |-- status: long (nullable = true)\n",
      " |-- ts: long (nullable = true)\n",
      " |-- userAgent: string (nullable = true)\n",
      " |-- userId: string (nullable = true)\n",
      "\n"
     ]
    }
   ],
   "source": [
    "df.printSchema()"
   ]
  },
  {
   "cell_type": "code",
   "execution_count": 9,
   "metadata": {
    "scrolled": true
   },
   "outputs": [
    {
     "data": {
      "text/plain": [
       "[Row(artist='Martha Tilston', auth='Logged In', firstName='Colin', gender='M', itemInSession=50, lastName='Freeman', length=277.89016, level='paid', location='Bakersfield, CA', method='PUT', page='NextSong', registration=1538173362000, sessionId=29, song='Rockpools', status=200, ts=1538352117000, userAgent='Mozilla/5.0 (Windows NT 6.1; WOW64; rv:31.0) Gecko/20100101 Firefox/31.0', userId='30', time='2018-10-01 08:01:57'),\n",
       " Row(artist='Five Iron Frenzy', auth='Logged In', firstName='Micah', gender='M', itemInSession=79, lastName='Long', length=236.09424, level='free', location='Boston-Cambridge-Newton, MA-NH', method='PUT', page='NextSong', registration=1538331630000, sessionId=8, song='Canada', status=200, ts=1538352180000, userAgent='\"Mozilla/5.0 (Windows NT 6.1; WOW64) AppleWebKit/537.36 (KHTML, like Gecko) Chrome/37.0.2062.103 Safari/537.36\"', userId='9', time='2018-10-01 08:03:00')]"
      ]
     },
     "execution_count": 9,
     "metadata": {},
     "output_type": "execute_result"
    }
   ],
   "source": [
    "# 对ts时间格式进行转换\n",
    "get_time = udf(lambda x : datetime.datetime.fromtimestamp(x / 1000.0).strftime(\"%Y-%m-%d %H:%M:%S\"))\n",
    "df = df.withColumn('time',get_time(df.ts))\n",
    "df.head(2)"
   ]
  },
  {
   "cell_type": "code",
   "execution_count": 10,
   "metadata": {
    "scrolled": false
   },
   "outputs": [
    {
     "name": "stdout",
     "output_type": "stream",
     "text": [
      "+-------+-------------------+\n",
      "|summary|               time|\n",
      "+-------+-------------------+\n",
      "|  count|             278154|\n",
      "|   mean|               null|\n",
      "| stddev|               null|\n",
      "|    min|2018-10-01 08:01:57|\n",
      "|    max|2018-12-03 09:11:16|\n",
      "+-------+-------------------+\n",
      "\n"
     ]
    }
   ],
   "source": [
    "df.describe('time').show()"
   ]
  },
  {
   "cell_type": "markdown",
   "metadata": {},
   "source": [
    "##### 数据集时间跨度为2个月"
   ]
  },
  {
   "cell_type": "markdown",
   "metadata": {},
   "source": [
    "# 探索性数据分析\n",
    "当你使用完整数据集时，通过加载小数据集，在 Spark 中完成基础操作来实现探索性数据分析。在这个 Workspace 中，我们已经提供给你一个你可以探索的小数据集。\n",
    "\n",
    "### 定义客户流失\n",
    "\n",
    "在你完成初步分析之后，创建一列 `Churn` 作为模型的标签。我建议你使用 `Cancellation Confirmation` 事件来定义客户流失，该事件在付费或免费客户身上都有发生。作为一个奖励任务，你也可以深入了解 `Downgrade` 事件。"
   ]
  },
  {
   "cell_type": "code",
   "execution_count": 11,
   "metadata": {
    "scrolled": false
   },
   "outputs": [
    {
     "name": "stdout",
     "output_type": "stream",
     "text": [
      "+-------------------------+\n",
      "|page                     |\n",
      "+-------------------------+\n",
      "|Cancel                   |\n",
      "|Submit Downgrade         |\n",
      "|Thumbs Down              |\n",
      "|Home                     |\n",
      "|Downgrade                |\n",
      "|Roll Advert              |\n",
      "|Logout                   |\n",
      "|Save Settings            |\n",
      "|Cancellation Confirmation|\n",
      "|About                    |\n",
      "|Settings                 |\n",
      "|Add to Playlist          |\n",
      "|Add Friend               |\n",
      "|NextSong                 |\n",
      "|Thumbs Up                |\n",
      "|Help                     |\n",
      "|Upgrade                  |\n",
      "|Error                    |\n",
      "|Submit Upgrade           |\n",
      "+-------------------------+\n",
      "\n"
     ]
    }
   ],
   "source": [
    "# 查看页面种类\n",
    "df.select('page').dropDuplicates().show(20,False)"
   ]
  },
  {
   "cell_type": "code",
   "execution_count": 12,
   "metadata": {
    "scrolled": true
   },
   "outputs": [
    {
     "data": {
      "text/plain": [
       "[Row(userId='300007', time='2018-10-05 10:08:58'),\n",
       " Row(userId='300001', time='2018-11-24 05:42:24')]"
      ]
     },
     "execution_count": 12,
     "metadata": {},
     "output_type": "execute_result"
    }
   ],
   "source": [
    "# 查看注销用户\n",
    "df_cancel = df.select('userId','time').where(df.page=='Cancellation Confirmation')\n",
    "df_cancel.collect()[-2:]"
   ]
  },
  {
   "cell_type": "code",
   "execution_count": 13,
   "metadata": {},
   "outputs": [
    {
     "data": {
      "text/plain": [
       "225"
      ]
     },
     "execution_count": 13,
     "metadata": {},
     "output_type": "execute_result"
    }
   ],
   "source": [
    "# 总用户数\n",
    "n_users = df.select('userId').dropDuplicates().count()\n",
    "n_users"
   ]
  },
  {
   "cell_type": "code",
   "execution_count": 14,
   "metadata": {
    "scrolled": true
   },
   "outputs": [
    {
     "data": {
      "text/plain": [
       "52"
      ]
     },
     "execution_count": 14,
     "metadata": {},
     "output_type": "execute_result"
    }
   ],
   "source": [
    "# 注销用户数\n",
    "df_cancel.count()"
   ]
  },
  {
   "cell_type": "code",
   "execution_count": 15,
   "metadata": {},
   "outputs": [
    {
     "name": "stdout",
     "output_type": "stream",
     "text": [
      "+------+-------------------+\n",
      "|userId|      last_log_time|\n",
      "+------+-------------------+\n",
      "|100011|2018-10-02 02:04:45|\n",
      "|100001|2018-10-03 00:36:45|\n",
      "|   135|2018-10-04 22:14:58|\n",
      "|100024|2018-10-05 07:17:18|\n",
      "|300007|2018-10-05 10:08:58|\n",
      "+------+-------------------+\n",
      "only showing top 5 rows\n",
      "\n"
     ]
    }
   ],
   "source": [
    "# 统计用户最后一次登陆时间，查看沉睡一个月以上用户\n",
    "df_last_log = df.groupby('userId').agg(max('time').alias('last_log_time'))\n",
    "df_sleep = df_last_log.where(df_last_log.last_log_time < '2018-11-01 00:00:00').sort('last_log_time')\n",
    "df_sleep.show(5)"
   ]
  },
  {
   "cell_type": "code",
   "execution_count": 16,
   "metadata": {},
   "outputs": [
    {
     "data": {
      "text/plain": [
       "38"
      ]
     },
     "execution_count": 16,
     "metadata": {},
     "output_type": "execute_result"
    }
   ],
   "source": [
    "df_sleep.count()"
   ]
  },
  {
   "cell_type": "code",
   "execution_count": 17,
   "metadata": {},
   "outputs": [
    {
     "name": "stdout",
     "output_type": "stream",
     "text": [
      "+------+-------------------+-------------------+\n",
      "|userId|               time|      last_log_time|\n",
      "+------+-------------------+-------------------+\n",
      "|   125|2018-10-12 12:35:18|2018-10-12 12:35:18|\n",
      "|    51|2018-10-17 15:39:32|2018-10-17 15:39:32|\n",
      "|    54|2018-11-13 03:40:08|               null|\n",
      "|100014|2018-11-21 03:04:09|               null|\n",
      "|   101|2018-10-17 06:30:37|2018-10-17 06:30:37|\n",
      "+------+-------------------+-------------------+\n",
      "only showing top 5 rows\n",
      "\n"
     ]
    }
   ],
   "source": [
    "# 合并注销用户和沉睡一个月以上用户，定义为流失用户\n",
    "df_churn = df_cancel.join(df_sleep,'userId','full_outer')\n",
    "df_churn.show(5)"
   ]
  },
  {
   "cell_type": "code",
   "execution_count": 18,
   "metadata": {},
   "outputs": [
    {
     "data": {
      "text/plain": [
       "60"
      ]
     },
     "execution_count": 18,
     "metadata": {},
     "output_type": "execute_result"
    }
   ],
   "source": [
    "df_churn.count()"
   ]
  },
  {
   "cell_type": "code",
   "execution_count": 19,
   "metadata": {},
   "outputs": [
    {
     "name": "stdout",
     "output_type": "stream",
     "text": [
      "+----------------+---------+---------+------+-------------+--------+---------+-----+--------------------+------+--------+-------------+---------+---------+------+-------------+--------------------+------+-------------------+-----+\n",
      "|          artist|     auth|firstName|gender|itemInSession|lastName|   length|level|            location|method|    page| registration|sessionId|     song|status|           ts|           userAgent|userId|               time|churn|\n",
      "+----------------+---------+---------+------+-------------+--------+---------+-----+--------------------+------+--------+-------------+---------+---------+------+-------------+--------------------+------+-------------------+-----+\n",
      "|  Martha Tilston|Logged In|    Colin|     M|           50| Freeman|277.89016| paid|     Bakersfield, CA|   PUT|NextSong|1538173362000|       29|Rockpools|   200|1538352117000|Mozilla/5.0 (Wind...|    30|2018-10-01 08:01:57|    0|\n",
      "|Five Iron Frenzy|Logged In|    Micah|     M|           79|    Long|236.09424| free|Boston-Cambridge-...|   PUT|NextSong|1538331630000|        8|   Canada|   200|1538352180000|\"Mozilla/5.0 (Win...|     9|2018-10-01 08:03:00|    0|\n",
      "+----------------+---------+---------+------+-------------+--------+---------+-----+--------------------+------+--------+-------------+---------+---------+------+-------------+--------------------+------+-------------------+-----+\n",
      "only showing top 2 rows\n",
      "\n"
     ]
    }
   ],
   "source": [
    "# 流失用户id，注销用户记为流失用户\n",
    "churn_users = [(row['userId']) for row in df_churn.collect()]\n",
    "# 标记流失用户\n",
    "get_churn = udf(lambda x : 1 if x in churn_users else 0, IntegerType())\n",
    "df_withchurn = df.withColumn(\"churn\", get_churn(df.userId))\n",
    "df_withchurn.show(2)"
   ]
  },
  {
   "cell_type": "markdown",
   "metadata": {},
   "source": [
    "### 探索数据\n",
    "你定义好客户流失后，就可以执行一些探索性数据分析，观察留存用户和流失用户的行为。你可以首先把这两类用户的数据聚合到一起，观察固定时间内某个特定动作出现的次数或者播放音乐的数量。"
   ]
  },
  {
   "cell_type": "code",
   "execution_count": 40,
   "metadata": {},
   "outputs": [
    {
     "data": {
      "image/png": "[encoded data removed]",
      "text/plain": [
       "<Figure size 432x288 with 1 Axes>"
      ]
     },
     "metadata": {
      "needs_background": "light"
     },
     "output_type": "display_data"
    }
   ],
   "source": [
    "# 比较流失用户性别\n",
    "gender_churn = df_withchurn.dropDuplicates([\"userId\", \"gender\"])\\\n",
    "        .groupby(['churn','gender']).count().toPandas()\n",
    "sns.barplot(x='churn', y='count',hue='gender', data=gender_churn);"
   ]
  },
  {
   "cell_type": "code",
   "execution_count": 41,
   "metadata": {},
   "outputs": [
    {
     "data": {
      "image/png": "[encoded data removed]",
      "text/plain": [
       "<Figure size 432x288 with 1 Axes>"
      ]
     },
     "metadata": {
      "needs_background": "light"
     },
     "output_type": "display_data"
    }
   ],
   "source": [
    "# 比较流失客户流失前的级别\n",
    "level_churn = df_withchurn.orderBy(desc('time')).dropDuplicates(['userId'])\\\n",
    "            .groupby(['churn','level']).count().toPandas()\n",
    "sns.barplot(x='churn',y='count', hue='level',data=level_churn);"
   ]
  },
  {
   "cell_type": "code",
   "execution_count": 22,
   "metadata": {
    "scrolled": false
   },
   "outputs": [
    {
     "data": {
      "image/png": "[encoded data removed]",
      "text/plain": [
       "<Figure size 864x360 with 2 Axes>"
      ]
     },
     "metadata": {
      "needs_background": "light"
     },
     "output_type": "display_data"
    }
   ],
   "source": [
    "# 比较用户的每次会话的时长和动作次数\n",
    "session_churn = df_withchurn.groupby(\"churn\", \"userId\", \"sessionId\").agg(count('length').alias('session_actions'),\n",
    "                                ((max(df_withchurn.ts) - min(df_withchurn.ts))/(1000*60*60)).alias('session_time')).toPandas()\n",
    "fig,(ax0,ax1) = plt.subplots(1,2,figsize=(12,5))\n",
    "sns.boxplot(y='session_actions', x='churn', data=session_churn,ax = ax0);\n",
    "sns.boxplot(y='session_time', x='churn',  data=session_churn, ax = ax1);"
   ]
  },
  {
   "cell_type": "code",
   "execution_count": 23,
   "metadata": {},
   "outputs": [],
   "source": [
    "# 获取小时和天\n",
    "get_hour = udf(lambda x: datetime.datetime.fromtimestamp(x / 1000.0).hour) \n",
    "get_day = udf(lambda x: datetime.datetime.fromtimestamp(x / 1000.0).day)\n",
    "df_withchurn = df_withchurn.withColumn('hour',get_hour(df_withchurn.ts))\n",
    "df_withchurn = df_withchurn.withColumn('day',get_day(df_withchurn.ts))"
   ]
  },
  {
   "cell_type": "code",
   "execution_count": 24,
   "metadata": {
    "scrolled": true
   },
   "outputs": [
    {
     "data": {
      "image/png": "[encoded data removed]",
      "text/plain": [
       "<Figure size 720x288 with 1 Axes>"
      ]
     },
     "metadata": {
      "needs_background": "light"
     },
     "output_type": "display_data"
    }
   ],
   "source": [
    "# 用户使用小时分布\n",
    "hour_churn = df_withchurn.filter(df_withchurn.page=='NextSong').groupby('churn','hour').count()\\\n",
    "            .orderBy(df_withchurn.hour.cast('float')).toPandas()\n",
    "hour_churn['hour'] = pd.to_numeric(hour_churn['hour'])\n",
    "f,ax = plt.subplots(figsize=(10,4))\n",
    "ax = sns.barplot(x='hour',y='count',hue='churn',data=hour_churn);"
   ]
  },
  {
   "cell_type": "code",
   "execution_count": 25,
   "metadata": {
    "scrolled": false
   },
   "outputs": [
    {
     "data": {
      "image/png": "[encoded data removed]",
      "text/plain": [
       "<Figure size 720x288 with 1 Axes>"
      ]
     },
     "metadata": {
      "needs_background": "light"
     },
     "output_type": "display_data"
    }
   ],
   "source": [
    "# 按天分布\n",
    "day_churn = df_withchurn.filter(df_withchurn.page=='NextSong').groupby('churn','day').count()\\\n",
    "            .orderBy(df_withchurn.day.cast('float')).toPandas()\n",
    "day_churn['day'] = pd.to_numeric(day_churn['day'])\n",
    "f,ax = plt.subplots(figsize=(10,4))\n",
    "ax = sns.barplot(x='day',y='count',hue='churn',data=day_churn);"
   ]
  },
  {
   "cell_type": "code",
   "execution_count": 26,
   "metadata": {
    "scrolled": false
   },
   "outputs": [
    {
     "data": {
      "image/png": "[encoded data removed]",
      "text/plain": [
       "<Figure size 864x288 with 2 Axes>"
      ]
     },
     "metadata": {
      "needs_background": "light"
     },
     "output_type": "display_data"
    }
   ],
   "source": [
    "# 对比人均使用的小时分布\n",
    "get_month = udf(lambda x: datetime.datetime.fromtimestamp(x/1000.0).month)\n",
    "df_withchurn = df_withchurn.withColumn('month',get_month(df_withchurn.ts))\n",
    "user_count = df_withchurn.filter(df_withchurn.page=='NextSong').groupby('churn','month','day','hour','userId')\\\n",
    "        .count().orderBy(df_withchurn.month.cast('float'),df_withchurn.day.cast('float'),\n",
    "                        df_withchurn.hour.cast('float')).toPandas()\n",
    "user_count['hour'] = pd.to_numeric(user_count['hour'])\n",
    "user_mean = user_count.groupby(['churn','month','day','hour'],as_index= False)['count'].mean()\n",
    "f,(ax1,ax2) = plt.subplots(1,2,figsize=(12,4))\n",
    "ax1.set_title('Hour Distribution of User on October')\n",
    "ax2.set_title('Hour Distribution of User on November')\n",
    "sns.lineplot(x='hour',y='count',hue='churn',data=user_mean[user_mean['month']=='10'],ax=ax1);\n",
    "sns.lineplot(x='hour',y='count',hue='churn',data=user_mean[user_mean['month']=='11'],ax=ax2);"
   ]
  },
  {
   "cell_type": "markdown",
   "metadata": {},
   "source": [
    "##### 可以看出，流失用户的使用不稳定"
   ]
  },
  {
   "cell_type": "markdown",
   "metadata": {},
   "source": [
    "# 特征工程\n",
    "熟悉了数据之后，就可以构建你认为会对训练模型帮助最大的特征。要处理完整数据集，你可以按照下述步骤：\n",
    "- 写一个脚本来从小数据集中提取你需要的特征\n",
    "- 确保你的脚本可以拓展到大数据集上，使用之前教过的最佳实践原则\n",
    "- 在完整数据集上运行你的脚本，按运行情况调试代码\n",
    "\n",
    "如果是在教室的 workspace，你可以直接用里面提供的小数据集来提取特征。确保当你开始使用 Spark 集群的时候，把上述的成果迁移到大数据集上。"
   ]
  },
  {
   "cell_type": "markdown",
   "metadata": {},
   "source": [
    "### 特征抽取"
   ]
  },
  {
   "cell_type": "markdown",
   "metadata": {},
   "source": [
    "##### 特征1：性别"
   ]
  },
  {
   "cell_type": "code",
   "execution_count": 27,
   "metadata": {},
   "outputs": [],
   "source": [
    "f1_gender = df_withchurn.select('userId','gender').dropDuplicates()\n",
    "f1_gender = f1_gender.replace(['F','M'],['0','1'],'gender')\n",
    "f1_gender = f1_gender.select('userId',f1_gender.gender.cast('int'))"
   ]
  },
  {
   "cell_type": "code",
   "execution_count": 28,
   "metadata": {
    "scrolled": true
   },
   "outputs": [
    {
     "name": "stdout",
     "output_type": "stream",
     "text": [
      "+------+------+\n",
      "|userId|gender|\n",
      "+------+------+\n",
      "|    44|     0|\n",
      "|    46|     0|\n",
      "+------+------+\n",
      "only showing top 2 rows\n",
      "\n"
     ]
    }
   ],
   "source": [
    "f1_gender.show(2)"
   ]
  },
  {
   "cell_type": "markdown",
   "metadata": {},
   "source": [
    "##### 特征2：是否付费"
   ]
  },
  {
   "cell_type": "code",
   "execution_count": 29,
   "metadata": {},
   "outputs": [],
   "source": [
    "# 按照最后一次登陆时的状态来计算\n",
    "f2_level = df_withchurn.select('userId','level').orderBy(desc('time')).dropDuplicates(['userId'])\n",
    "f2_level = f2_level.replace(['free','paid'],['0','1'],'level')\n",
    "f2_level = f2_level.select('userId',f2_level.level.cast('int'))"
   ]
  },
  {
   "cell_type": "code",
   "execution_count": 30,
   "metadata": {
    "scrolled": true
   },
   "outputs": [
    {
     "name": "stdout",
     "output_type": "stream",
     "text": [
      "+------+-----+\n",
      "|userId|level|\n",
      "+------+-----+\n",
      "|100010|    0|\n",
      "|200002|    1|\n",
      "+------+-----+\n",
      "only showing top 2 rows\n",
      "\n"
     ]
    }
   ],
   "source": [
    "f2_level.show(2)"
   ]
  },
  {
   "cell_type": "markdown",
   "metadata": {},
   "source": [
    "##### 特征3：注册时间"
   ]
  },
  {
   "cell_type": "code",
   "execution_count": 31,
   "metadata": {
    "scrolled": false
   },
   "outputs": [
    {
     "name": "stdout",
     "output_type": "stream",
     "text": [
      "+------+-----------------+\n",
      "|userId|         reg_days|\n",
      "+------+-----------------+\n",
      "|100010|55.64365740740741|\n",
      "|200002|70.07462962962963|\n",
      "+------+-----------------+\n",
      "only showing top 2 rows\n",
      "\n"
     ]
    }
   ],
   "source": [
    "# 按照注册时刻到最后一次登陆时刻计算时间\n",
    "reg_time = df_withchurn.select('userId','registration').dropDuplicates()\n",
    "last_time = df_withchurn.groupby('userId').agg(max('ts').alias('last_ts'))\n",
    "f3_daysFromReg = reg_time.join(last_time, reg_time.userId == last_time.userId).select(reg_time.userId,\n",
    "                 ((last_time.last_ts-reg_time.registration)/(1000*60*60*24)).alias('reg_days'))\n",
    "f3_daysFromReg.show(2)"
   ]
  },
  {
   "cell_type": "markdown",
   "metadata": {},
   "source": [
    "##### 特征4：每日在线时长"
   ]
  },
  {
   "cell_type": "code",
   "execution_count": 32,
   "metadata": {
    "scrolled": true
   },
   "outputs": [
    {
     "name": "stdout",
     "output_type": "stream",
     "text": [
      "+------+-----------------+\n",
      "|userId|       avg_length|\n",
      "+------+-----------------+\n",
      "|200002|3.794920634920635|\n",
      "|100010|1.985895061728395|\n",
      "+------+-----------------+\n",
      "only showing top 2 rows\n",
      "\n"
     ]
    }
   ],
   "source": [
    "# 先按会话时长汇总\n",
    "session_length = df_withchurn.groupby('userId','month','day','sessionId').agg((max('ts')-min('ts'))\\\n",
    "                                                                            .alias('session_time'))\n",
    "# 再按天汇总\n",
    "day_length = session_length.groupby('userId','month','day').agg(Fsum('session_time').alias('day_time'))\n",
    "# 求平均值,按小时计\n",
    "f4_avgLength = day_length.groupby('userId').agg((avg('day_time')/(1000*60*60)).alias('avg_length'))\n",
    "f4_avgLength.show(2)"
   ]
  },
  {
   "cell_type": "markdown",
   "metadata": {},
   "source": [
    "##### 特征5：添加好友数"
   ]
  },
  {
   "cell_type": "code",
   "execution_count": 93,
   "metadata": {
    "scrolled": true
   },
   "outputs": [
    {
     "name": "stdout",
     "output_type": "stream",
     "text": [
      "+------+-----------+\n",
      "|userId|add_friends|\n",
      "+------+-----------+\n",
      "|100010|          4|\n",
      "|200002|          4|\n",
      "|    51|         28|\n",
      "|   124|         74|\n",
      "|     7|          1|\n",
      "|    54|         33|\n",
      "|    15|         31|\n",
      "|   155|         11|\n",
      "|   132|         41|\n",
      "|   154|          3|\n",
      "+------+-----------+\n",
      "only showing top 10 rows\n",
      "\n"
     ]
    }
   ],
   "source": [
    "f5_addFriend = df_withchurn.filter(df_withchurn.page=='Add Friend').groupby('userId').count()\n",
    "f5_addFriend = f5_addFriend.withColumnRenamed('count','add_friends')\n",
    "f5_addFriend.show(10)"
   ]
  },
  {
   "cell_type": "markdown",
   "metadata": {},
   "source": [
    "##### 特征6：添加歌单数"
   ]
  },
  {
   "cell_type": "code",
   "execution_count": 97,
   "metadata": {
    "scrolled": false
   },
   "outputs": [
    {
     "name": "stdout",
     "output_type": "stream",
     "text": [
      "+------+------------+\n",
      "|userId|add_playlist|\n",
      "+------+------------+\n",
      "|100010|           7|\n",
      "|200002|           8|\n",
      "|    51|          52|\n",
      "|   124|         118|\n",
      "|     7|           5|\n",
      "|    15|          59|\n",
      "|    54|          72|\n",
      "|   155|          24|\n",
      "|   132|          38|\n",
      "|   154|           1|\n",
      "+------+------------+\n",
      "only showing top 10 rows\n",
      "\n"
     ]
    }
   ],
   "source": [
    "f6_addPlaylist = df_withchurn.filter(df_withchurn.page=='Add to Playlist').groupby('userId').count()\n",
    "f6_addPlaylist = f6_addPlaylist.withColumnRenamed('count','add_playlist')\n",
    "f6_addPlaylist.show(10)"
   ]
  },
  {
   "cell_type": "markdown",
   "metadata": {},
   "source": [
    "##### 特征7：是否降级"
   ]
  },
  {
   "cell_type": "code",
   "execution_count": 35,
   "metadata": {
    "scrolled": true
   },
   "outputs": [
    {
     "name": "stdout",
     "output_type": "stream",
     "text": [
      "+------+---------+\n",
      "|userId|downgrade|\n",
      "+------+---------+\n",
      "|    54|        1|\n",
      "|    11|        1|\n",
      "+------+---------+\n",
      "only showing top 2 rows\n",
      "\n"
     ]
    }
   ],
   "source": [
    "f7_downgrade = df_withchurn.filter(df_withchurn.page=='Submit Downgrade').groupby('userId').count()\n",
    "f7_downgrade = f7_downgrade.withColumnRenamed('count','downgrade')\n",
    "f7_downgrade.show(2)"
   ]
  },
  {
   "cell_type": "markdown",
   "metadata": {},
   "source": [
    "##### 特征8：是否升级"
   ]
  },
  {
   "cell_type": "code",
   "execution_count": 36,
   "metadata": {
    "scrolled": true
   },
   "outputs": [
    {
     "name": "stdout",
     "output_type": "stream",
     "text": [
      "+------+-------+\n",
      "|userId|upgrade|\n",
      "+------+-------+\n",
      "|200002|      1|\n",
      "|    54|      1|\n",
      "+------+-------+\n",
      "only showing top 2 rows\n",
      "\n"
     ]
    }
   ],
   "source": [
    "f8_upgrade = df_withchurn.filter(df_withchurn.page=='Submit Upgrade').groupby('userId').count()\n",
    "f8_upgrade = f8_upgrade.withColumnRenamed('count','upgrade')\n",
    "f8_upgrade.show(2)"
   ]
  },
  {
   "cell_type": "markdown",
   "metadata": {},
   "source": [
    "##### 特征9：thambs up次数"
   ]
  },
  {
   "cell_type": "code",
   "execution_count": 37,
   "metadata": {},
   "outputs": [
    {
     "name": "stdout",
     "output_type": "stream",
     "text": [
      "+------+---------+\n",
      "|userId|thumbs_up|\n",
      "+------+---------+\n",
      "|100010|       17|\n",
      "|200002|       21|\n",
      "+------+---------+\n",
      "only showing top 2 rows\n",
      "\n"
     ]
    }
   ],
   "source": [
    "f9_thumbsUp = df_withchurn.filter(df_withchurn.page=='Thumbs Up').groupby('userId').count()\n",
    "f9_thumbsUp = f9_thumbsUp.withColumnRenamed('count','thumbs_up')\n",
    "f9_thumbsUp.show(2)"
   ]
  },
  {
   "cell_type": "markdown",
   "metadata": {},
   "source": [
    "##### 特征10：thambs down次数"
   ]
  },
  {
   "cell_type": "code",
   "execution_count": 38,
   "metadata": {
    "scrolled": false
   },
   "outputs": [
    {
     "name": "stdout",
     "output_type": "stream",
     "text": [
      "+------+-----------+\n",
      "|userId|thumbs_down|\n",
      "+------+-----------+\n",
      "|100010|          5|\n",
      "|200002|          6|\n",
      "+------+-----------+\n",
      "only showing top 2 rows\n",
      "\n"
     ]
    }
   ],
   "source": [
    "f10_thumbsDown = df_withchurn.filter(df_withchurn.page=='Thumbs Down').groupby('userId').count()\n",
    "f10_thumbsDown = f10_thumbsDown.withColumnRenamed('count','thumbs_down')\n",
    "f10_thumbsDown.show(2)"
   ]
  },
  {
   "cell_type": "markdown",
   "metadata": {},
   "source": [
    "##### 特征11: 收听歌曲数"
   ]
  },
  {
   "cell_type": "code",
   "execution_count": 42,
   "metadata": {},
   "outputs": [
    {
     "name": "stdout",
     "output_type": "stream",
     "text": [
      "+------+--------+\n",
      "|userId|song_num|\n",
      "+------+--------+\n",
      "|100010|     381|\n",
      "|200002|     474|\n",
      "+------+--------+\n",
      "only showing top 2 rows\n",
      "\n"
     ]
    }
   ],
   "source": [
    "f11_songNum = df_withchurn.select(['userId','song']).groupby('userId').count().withColumnRenamed('count','song_num')\n",
    "f11_songNum.show(2)"
   ]
  },
  {
   "cell_type": "markdown",
   "metadata": {},
   "source": [
    "##### 特征12：收听歌手数"
   ]
  },
  {
   "cell_type": "code",
   "execution_count": 43,
   "metadata": {
    "scrolled": true
   },
   "outputs": [
    {
     "name": "stdout",
     "output_type": "stream",
     "text": [
      "+------+----------+\n",
      "|userId|artist_num|\n",
      "+------+----------+\n",
      "|100010|       252|\n",
      "|200002|       339|\n",
      "+------+----------+\n",
      "only showing top 2 rows\n",
      "\n"
     ]
    }
   ],
   "source": [
    "f12_artistNum = df_withchurn.filter(df_withchurn.page=='NextSong').select(['userId','artist']).dropDuplicates()\\\n",
    "                .groupby('userId').count().withColumnRenamed('count','artist_num')\n",
    "f12_artistNum.show(2)"
   ]
  },
  {
   "cell_type": "markdown",
   "metadata": {},
   "source": [
    "##### 特征13：每次会话的平均歌曲数"
   ]
  },
  {
   "cell_type": "code",
   "execution_count": 45,
   "metadata": {},
   "outputs": [
    {
     "name": "stdout",
     "output_type": "stream",
     "text": [
      "+------+------------------+\n",
      "|userId|         avg_songs|\n",
      "+------+------------------+\n",
      "|100010|39.285714285714285|\n",
      "|200002|              64.5|\n",
      "+------+------------------+\n",
      "only showing top 2 rows\n",
      "\n"
     ]
    }
   ],
   "source": [
    "f13_songsPerSession = df_withchurn.filter(df_withchurn.page ==\"NextSong\").groupBy([\"userId\", \"sessionId\"]) \\\n",
    "                      .count().groupby(['userId']).agg({'count':'avg'}).withColumnRenamed('avg(count)', 'avg_songs')\n",
    "f13_songsPerSession.show(2)"
   ]
  },
  {
   "cell_type": "markdown",
   "metadata": {},
   "source": [
    "##### 特征14：用户平均会话数"
   ]
  },
  {
   "cell_type": "code",
   "execution_count": 75,
   "metadata": {},
   "outputs": [
    {
     "name": "stdout",
     "output_type": "stream",
     "text": [
      "+------+--------+\n",
      "|userId|sessions|\n",
      "+------+--------+\n",
      "|100010|       7|\n",
      "|200002|       6|\n",
      "+------+--------+\n",
      "only showing top 2 rows\n",
      "\n"
     ]
    }
   ],
   "source": [
    "f14_sessionsPerUser = df_withchurn.select(\"userId\", \"sessionId\").dropDuplicates().groupby(\"userId\") \\\n",
    "                        .count().withColumnRenamed('count', 'sessions')\n",
    "f14_sessionsPerUser.show(2)"
   ]
  },
  {
   "cell_type": "markdown",
   "metadata": {},
   "source": [
    "##### 特征15：平均会话时长"
   ]
  },
  {
   "cell_type": "code",
   "execution_count": 99,
   "metadata": {},
   "outputs": [
    {
     "name": "stdout",
     "output_type": "stream",
     "text": [
      "+------+------------------+\n",
      "|userId|       avgSessTime|\n",
      "+------+------------------+\n",
      "|    10|459.74722222222226|\n",
      "|   100| 316.5190476190476|\n",
      "+------+------------------+\n",
      "only showing top 2 rows\n",
      "\n"
     ]
    }
   ],
   "source": [
    "f15_sesstime = df_withchurn.groupBy([\"userId\", \"sessionId\"]) \\\n",
    "                .agg(((max(df_withchurn.ts)-min(df_withchurn.ts))/(1000*60))\n",
    "                .alias(\"sessTime\"))\n",
    "f15_avgtime = f15_sesstime.groupby(\"userId\") \\\n",
    "                    .agg(avg(f15_sesstime.sessTime).alias(\"avgSessTime\")) \\\n",
    "                    .orderBy(\"userId\")\n",
    "f15_avgtime.show(2)"
   ]
  },
  {
   "cell_type": "markdown",
   "metadata": {},
   "source": [
    "##### 标签"
   ]
  },
  {
   "cell_type": "code",
   "execution_count": 47,
   "metadata": {
    "scrolled": false
   },
   "outputs": [
    {
     "name": "stdout",
     "output_type": "stream",
     "text": [
      "+------+-----+\n",
      "|userId|churn|\n",
      "+------+-----+\n",
      "|100005|    1|\n",
      "|200007|    0|\n",
      "+------+-----+\n",
      "only showing top 2 rows\n",
      "\n"
     ]
    }
   ],
   "source": [
    "label = df_withchurn.select('userId','churn').dropDuplicates()\n",
    "label.show(2)"
   ]
  },
  {
   "cell_type": "markdown",
   "metadata": {},
   "source": [
    "### 特征汇总"
   ]
  },
  {
   "cell_type": "code",
   "execution_count": 115,
   "metadata": {},
   "outputs": [
    {
     "name": "stdout",
     "output_type": "stream",
     "text": [
      "+------+------+-----+-----------------+-----------------+-----------+------------+---------+-------+---------+-----------+--------+----------+------------------+--------+------------------+-----+\n",
      "|userId|gender|level|         reg_days|       avg_length|add_friends|add_playlist|downgrade|upgrade|thumbs_up|thumbs_down|song_num|artist_num|         avg_songs|sessions|       avgSessTime|churn|\n",
      "+------+------+-----+-----------------+-----------------+-----------+------------+---------+-------+---------+-----------+--------+----------+------------------+--------+------------------+-----+\n",
      "|100010|     0|    0|55.64365740740741|1.985895061728395|          4|           7|     null|   null|       17|          5|     381|       252|39.285714285714285|       7|154.48333333333332|    0|\n",
      "|200002|     1|    1|70.07462962962963|3.794920634920635|          4|           8|     null|      1|       21|          6|     474|       339|              64.5|       6|266.40000000000003|    0|\n",
      "+------+------+-----+-----------------+-----------------+-----------+------------+---------+-------+---------+-----------+--------+----------+------------------+--------+------------------+-----+\n",
      "only showing top 2 rows\n",
      "\n"
     ]
    }
   ],
   "source": [
    "# 将15个特征和标签汇总成一个dataframe\n",
    "final = f1_gender.join(f2_level,'userId','left')\n",
    "final = final.join(f3_daysFromReg,'userId','left')\n",
    "final = final.join(f4_avgLength,'userId','left')\n",
    "final = final.join(f5_addFriend,'userId','left')\n",
    "final = final.join(f6_addPlaylist,'userId','left')\n",
    "final = final.join(f7_downgrade,'userId','left')\n",
    "final = final.join(f8_upgrade,'userId','left')\n",
    "final = final.join(f9_thumbsUp,'userId','left')\n",
    "final = final.join(f10_thumbsDown,'userId','left')\n",
    "final = final.join(f11_songNum,'userId','left')\n",
    "final = final.join(f12_artistNum,'userId','left')\n",
    "final = final.join(f13_songsPerSession,'userId','left')\n",
    "final = final.join(f14_sessionsPerUser,'userId','left')\n",
    "final = final.join(f15_avgtime,'userId','left')\n",
    "final = final.join(label,'userId','left')\n",
    "final.show(2)"
   ]
  },
  {
   "cell_type": "code",
   "execution_count": 116,
   "metadata": {},
   "outputs": [
    {
     "data": {
      "text/plain": [
       "225"
      ]
     },
     "execution_count": 116,
     "metadata": {},
     "output_type": "execute_result"
    }
   ],
   "source": [
    "final.count()"
   ]
  },
  {
   "cell_type": "code",
   "execution_count": 117,
   "metadata": {},
   "outputs": [
    {
     "name": "stdout",
     "output_type": "stream",
     "text": [
      "+------+------+-----+--------+----------+-----------+------------+---------+-------+---------+-----------+--------+----------+---------+--------+-----------+-----+\n",
      "|userId|gender|level|reg_days|avg_length|add_friends|add_playlist|downgrade|upgrade|thumbs_up|thumbs_down|song_num|artist_num|avg_songs|sessions|avgSessTime|churn|\n",
      "+------+------+-----+--------+----------+-----------+------------+---------+-------+---------+-----------+--------+----------+---------+--------+-----------+-----+\n",
      "|     0|     0|    0|       0|         0|          0|           0|        0|      0|        0|          0|       0|         0|        0|       0|          0|    0|\n",
      "+------+------+-----+--------+----------+-----------+------------+---------+-------+---------+-----------+--------+----------+---------+--------+-----------+-----+\n",
      "\n"
     ]
    }
   ],
   "source": [
    "# 未统计到的值用0补充\n",
    "final = final.fillna(0)\n",
    "final.select([count(when(isnull(c) | isnan(c),c)).alias(c) for c in final.columns]).show()"
   ]
  },
  {
   "cell_type": "markdown",
   "metadata": {},
   "source": [
    "# 建模\n",
    "将完整数据集分成训练集、测试集和验证集。测试几种你学过的机器学习方法。评价不同机器学习方法的准确率，根据情况调节参数。根据准确率你挑选出表现最好的那个模型，然后报告在训练集上的结果。因为流失顾客数据集很小，我建议选用 F1 score 作为优化指标。"
   ]
  },
  {
   "cell_type": "code",
   "execution_count": 118,
   "metadata": {
    "scrolled": true
   },
   "outputs": [
    {
     "name": "stdout",
     "output_type": "stream",
     "text": [
      "+-----+-----+\n",
      "|churn|count|\n",
      "+-----+-----+\n",
      "|    1|   60|\n",
      "|    0|  165|\n",
      "+-----+-----+\n",
      "\n"
     ]
    }
   ],
   "source": [
    "final.groupby('churn').count().show()"
   ]
  },
  {
   "cell_type": "code",
   "execution_count": 119,
   "metadata": {},
   "outputs": [
    {
     "name": "stdout",
     "output_type": "stream",
     "text": [
      "root\n",
      " |-- userId: string (nullable = true)\n",
      " |-- gender: integer (nullable = true)\n",
      " |-- level: integer (nullable = true)\n",
      " |-- reg_days: double (nullable = false)\n",
      " |-- avg_length: double (nullable = false)\n",
      " |-- add_friends: long (nullable = true)\n",
      " |-- add_playlist: long (nullable = true)\n",
      " |-- downgrade: long (nullable = true)\n",
      " |-- upgrade: long (nullable = true)\n",
      " |-- thumbs_up: long (nullable = true)\n",
      " |-- thumbs_down: long (nullable = true)\n",
      " |-- song_num: long (nullable = true)\n",
      " |-- artist_num: long (nullable = true)\n",
      " |-- avg_songs: double (nullable = false)\n",
      " |-- sessions: long (nullable = true)\n",
      " |-- avgSessTime: double (nullable = false)\n",
      " |-- churn: integer (nullable = true)\n",
      "\n"
     ]
    }
   ],
   "source": [
    "final.printSchema()"
   ]
  },
  {
   "cell_type": "code",
   "execution_count": 120,
   "metadata": {},
   "outputs": [
    {
     "name": "stdout",
     "output_type": "stream",
     "text": [
      "+------+------+-----+-----------------+-----------------+-----------+------------+---------+-------+---------+-----------+--------+----------+------------------+--------+------------------+-----+--------------------+\n",
      "|userId|gender|level|         reg_days|       avg_length|add_friends|add_playlist|downgrade|upgrade|thumbs_up|thumbs_down|song_num|artist_num|         avg_songs|sessions|       avgSessTime|churn|            Features|\n",
      "+------+------+-----+-----------------+-----------------+-----------+------------+---------+-------+---------+-----------+--------+----------+------------------+--------+------------------+-----+--------------------+\n",
      "|100010|     0|    0|55.64365740740741|1.985895061728395|          4|           7|        0|      0|       17|          5|     381|       252|39.285714285714285|       7|154.48333333333332|    0|[0.0,0.0,55.64365...|\n",
      "|200002|     1|    1|70.07462962962963|3.794920634920635|          4|           8|        0|      1|       21|          6|     474|       339|              64.5|       6|266.40000000000003|    0|[1.0,1.0,70.07462...|\n",
      "+------+------+-----+-----------------+-----------------+-----------+------------+---------+-------+---------+-----------+--------+----------+------------------+--------+------------------+-----+--------------------+\n",
      "only showing top 2 rows\n",
      "\n"
     ]
    }
   ],
   "source": [
    "# 建立特征值向量\n",
    "assembler = VectorAssembler(inputCols = final.columns[1:-1], outputCol=\"Features\")\n",
    "data = assembler.transform(final)\n",
    "data.show(2)"
   ]
  },
  {
   "cell_type": "code",
   "execution_count": 121,
   "metadata": {},
   "outputs": [
    {
     "name": "stdout",
     "output_type": "stream",
     "text": [
      "+------+------+-----+-----------------+-----------------+-----------+------------+---------+-------+---------+-----------+--------+----------+------------------+--------+------------------+-----+--------------------+--------------------+\n",
      "|userId|gender|level|         reg_days|       avg_length|add_friends|add_playlist|downgrade|upgrade|thumbs_up|thumbs_down|song_num|artist_num|         avg_songs|sessions|       avgSessTime|churn|            Features|      ScaledFeatures|\n",
      "+------+------+-----+-----------------+-----------------+-----------+------------+---------+-------+---------+-----------+--------+----------+------------------+--------+------------------+-----+--------------------+--------------------+\n",
      "|100010|     0|    0|55.64365740740741|1.985895061728395|          4|           7|        0|      0|       17|          5|     381|       252|39.285714285714285|       7|154.48333333333332|    0|[0.0,0.0,55.64365...|[-1.0762390990345...|\n",
      "|200002|     1|    1|70.07462962962963|3.794920634920635|          4|           8|        0|      1|       21|          6|     474|       339|              64.5|       6|266.40000000000003|    0|[1.0,1.0,70.07462...|[0.92503195288915...|\n",
      "+------+------+-----+-----------------+-----------------+-----------+------------+---------+-------+---------+-----------+--------+----------+------------------+--------+------------------+-----+--------------------+--------------------+\n",
      "only showing top 2 rows\n",
      "\n"
     ]
    }
   ],
   "source": [
    "# 对特征向量标准化\n",
    "scaler = StandardScaler(inputCol=\"Features\", outputCol=\"ScaledFeatures\", withStd=True, withMean=True)\n",
    "scalerModel = scaler.fit(data)\n",
    "data = scalerModel.transform(data)\n",
    "data.show(2)"
   ]
  },
  {
   "cell_type": "code",
   "execution_count": 122,
   "metadata": {},
   "outputs": [
    {
     "name": "stdout",
     "output_type": "stream",
     "text": [
      "+--------------------+-----+\n",
      "|            features|label|\n",
      "+--------------------+-----+\n",
      "|[-1.0762390990345...|    0|\n",
      "|[0.92503195288915...|    0|\n",
      "+--------------------+-----+\n",
      "only showing top 2 rows\n",
      "\n"
     ]
    }
   ],
   "source": [
    "df_model = data.select(data.ScaledFeatures.alias('features'),data.churn.alias('label'))\n",
    "df_model.show(2)"
   ]
  },
  {
   "cell_type": "code",
   "execution_count": 123,
   "metadata": {},
   "outputs": [],
   "source": [
    "# 数据切分\n",
    "train, validation = df_model.randomSplit([0.8, 0.2], seed=15)"
   ]
  },
  {
   "cell_type": "markdown",
   "metadata": {},
   "source": [
    "### 模型训练"
   ]
  },
  {
   "cell_type": "code",
   "execution_count": 127,
   "metadata": {},
   "outputs": [
    {
     "name": "stdout",
     "output_type": "stream",
     "text": [
      "The area under ROC for train set is 0.8262014483212629\n",
      "The area under ROC for test set is 0.8359201773835923\n"
     ]
    }
   ],
   "source": [
    "# 逻辑回归\n",
    "model_lr = LogisticRegression()\n",
    "model_lr = model_lr.fit(train)\n",
    "\n",
    "# 预测\n",
    "predict_train_lr = model_lr.transform(train)\n",
    "predict_test_lr = model_lr.transform(validation)\n",
    "\n",
    "# 计算roc_auc值\n",
    "\n",
    "evaluator=BinaryClassificationEvaluator(rawPredictionCol='rawPrediction',labelCol='label')\n",
    "\n",
    "print(\"The area under ROC for train set is {}\".format(evaluator.evaluate(predict_train_lr)))\n",
    "\n",
    "print(\"The area under ROC for test set is {}\".format(evaluator.evaluate(predict_test_lr)))"
   ]
  },
  {
   "cell_type": "code",
   "execution_count": 128,
   "metadata": {},
   "outputs": [
    {
     "name": "stdout",
     "output_type": "stream",
     "text": [
      "The area under ROC for train set is 0.9656023699802498\n",
      "The area under ROC for test set is 0.8603104212860312\n"
     ]
    }
   ],
   "source": [
    "# 随机森林\n",
    "model_rf = RandomForestClassifier()\n",
    "model_rf = model_rf.fit(train)\n",
    "\n",
    "# 预测\n",
    "predict_train_rf = model_rf.transform(train)\n",
    "predict_test_rf = model_rf.transform(validation)\n",
    "\n",
    "# 计算roc_auc值\n",
    "\n",
    "print(\"The area under ROC for train set is {}\".format(evaluator.evaluate(predict_train_rf)))\n",
    "\n",
    "print(\"The area under ROC for test set is {}\".format(evaluator.evaluate(predict_test_rf)))"
   ]
  },
  {
   "cell_type": "code",
   "execution_count": 129,
   "metadata": {},
   "outputs": [
    {
     "name": "stdout",
     "output_type": "stream",
     "text": [
      "The area under ROC for train set is 0.9656023699802498\n",
      "The area under ROC for test set is 0.8603104212860313\n"
     ]
    }
   ],
   "source": [
    "# 提升树\n",
    "model_gbt = GBTClassifier()\n",
    "model_gbt = model_gbt.fit(train)\n",
    "\n",
    "# 预测\n",
    "predict_train_gbt = model_rf.transform(train)\n",
    "predict_test_gbt = model_rf.transform(validation)\n",
    "\n",
    "# 计算roc_auc值\n",
    "\n",
    "print(\"The area under ROC for train set is {}\".format(evaluator.evaluate(predict_train_rf)))\n",
    "\n",
    "print(\"The area under ROC for test set is {}\".format(evaluator.evaluate(predict_test_rf)))"
   ]
  },
  {
   "cell_type": "code",
   "execution_count": 124,
   "metadata": {},
   "outputs": [],
   "source": [
    "# 编辑函数计算precision，recall，f1_score\n",
    "def get_evaluate_scores(results):\n",
    "\n",
    "    TP = results.filter(\"label = 1 and prediction = 1\").count()\n",
    "    FP = results.filter(\"label = 0 and prediction = 1\").count()\n",
    "    FN = results.filter(\"label = 1 and prediction = 0\").count()\n",
    "    TN = results.filter(\"label = 0 and prediction = 0\").count()\n",
    "    confusion_matrix = np.array([[TP,FP],[FN,TN]])\n",
    "    print('混淆矩阵：\\n', confusion_matrix)\n",
    "    precision = TP / (TP + FP) \n",
    "    recall = TP / (TP + FN)\n",
    "    f1 = 2*precision*recall / (precision+recall)\n",
    "    print('精准率：', precision)\n",
    "    print('召回率：', recall)\n",
    "    print('F1得分：', f1)"
   ]
  },
  {
   "cell_type": "code",
   "execution_count": 132,
   "metadata": {},
   "outputs": [
    {
     "name": "stdout",
     "output_type": "stream",
     "text": [
      "混淆矩阵：\n",
      " [[ 7  3]\n",
      " [ 4 38]]\n",
      "精准率： 0.7\n",
      "召回率： 0.6363636363636364\n",
      "F1得分： 0.6666666666666666\n"
     ]
    }
   ],
   "source": [
    "# 逻辑回归\n",
    "get_evaluate_scores(predict_test_lr)"
   ]
  },
  {
   "cell_type": "code",
   "execution_count": 130,
   "metadata": {
    "scrolled": true
   },
   "outputs": [
    {
     "name": "stdout",
     "output_type": "stream",
     "text": [
      "混淆矩阵：\n",
      " [[ 5  1]\n",
      " [ 6 40]]\n",
      "精准率： 0.8333333333333334\n",
      "召回率： 0.45454545454545453\n",
      "F1得分： 0.5882352941176471\n"
     ]
    }
   ],
   "source": [
    "# 随机森林\n",
    "get_evaluate_scores(predict_test_rf)"
   ]
  },
  {
   "cell_type": "code",
   "execution_count": 131,
   "metadata": {
    "scrolled": true
   },
   "outputs": [
    {
     "name": "stdout",
     "output_type": "stream",
     "text": [
      "混淆矩阵：\n",
      " [[ 5  1]\n",
      " [ 6 40]]\n",
      "精准率： 0.8333333333333334\n",
      "召回率： 0.45454545454545453\n",
      "F1得分： 0.5882352941176471\n"
     ]
    }
   ],
   "source": [
    "# 提升树\n",
    "get_evaluate_scores(predict_test_gbt)"
   ]
  },
  {
   "cell_type": "markdown",
   "metadata": {},
   "source": [
    "优先考虑效率，以上三种算法采用默认值计算，从分类效果来看，F1分数较高的是逻辑回归模型，随机森林和提升树相当，还有较大调优空间。"
   ]
  },
  {
   "cell_type": "markdown",
   "metadata": {},
   "source": [
    "### 模型优化"
   ]
  },
  {
   "cell_type": "code",
   "execution_count": 157,
   "metadata": {},
   "outputs": [
    {
     "name": "stdout",
     "output_type": "stream",
     "text": [
      "混淆矩阵：\n",
      " [[ 4  1]\n",
      " [ 7 40]]\n",
      "精准率： 0.8\n",
      "召回率： 0.36363636363636365\n",
      "F1得分： 0.5000000000000001\n",
      "逻辑回归模型：None\n",
      "混淆矩阵：\n",
      " [[ 9  6]\n",
      " [ 2 35]]\n",
      "精准率： 0.6\n",
      "召回率： 0.8181818181818182\n",
      "F1得分： 0.6923076923076923\n",
      "提升树模型：None\n",
      "混淆矩阵：\n",
      " [[ 6  1]\n",
      " [ 5 40]]\n",
      "精准率： 0.8571428571428571\n",
      "召回率： 0.5454545454545454\n",
      "F1得分： 0.6666666666666665\n",
      "随机森林模型：None\n"
     ]
    }
   ],
   "source": [
    "# 逻辑回归模型\n",
    "lr =  LogisticRegression()\n",
    "paramGrid = ParamGridBuilder() \\\n",
    "    .addGrid(lr.elasticNetParam,[0.0, 0.1, 0.5, 1.0]) \\\n",
    "    .addGrid(lr.regParam,[0.0, 0.05, 0.1]) \\\n",
    "    .build()\n",
    "\n",
    "crossval = CrossValidator(estimator=lr,\n",
    "                          estimatorParamMaps=paramGrid,\n",
    "                          evaluator=BinaryClassificationEvaluator(),\n",
    "                          numFolds=3)\n",
    "Model_lr = crossval.fit(train)\n",
    "\n",
    "\n",
    "# gbt提升树模型\n",
    "gbt = GBTClassifier()\n",
    "\n",
    "paramGrid = ParamGridBuilder() \\\n",
    "    .addGrid(gbt.maxIter,[10, 20,30]) \\\n",
    "    .addGrid(gbt.maxBins, [20, 40, 60])\\\n",
    "    .addGrid(gbt.maxDepth,[2, 4, 6, 8,10]) \\\n",
    "    .build()\n",
    "\n",
    "crossval_gbt = CrossValidator(estimator=gbt,\n",
    "                          estimatorParamMaps=paramGrid,\n",
    "                          evaluator=BinaryClassificationEvaluator(),\n",
    "                          numFolds=3)\n",
    "\n",
    "Model_gbt = crossval_gbt.fit(train)\n",
    "\n",
    "\n",
    "\n",
    "# 随机森林模型\n",
    "rf = RandomForestClassifier()\n",
    "\n",
    "paramGrid = ParamGridBuilder() \\\n",
    "    .addGrid(rf.impurity,['entropy', 'gini']) \\\n",
    "    .addGrid(rf.maxDepth,[2,4,6,8]) \\\n",
    "    .build()\n",
    "\n",
    "crossval_rf = CrossValidator(estimator=rf,\n",
    "                          estimatorParamMaps=paramGrid,\n",
    "                          evaluator=BinaryClassificationEvaluator(),\n",
    "                          numFolds=3)\n",
    "\n",
    "Model_rf = crossval_rf.fit(train)\n",
    "\n",
    "\n",
    "\n",
    "lr_results = Model_lr.transform(validation)\n",
    "gbt_results = Model_gbt.transform(validation)\n",
    "rf_results = Model_rf.transform(validation)\n",
    "\n",
    "\n",
    "# 逻辑回归\n",
    "print('逻辑回归模型：{}'.format(get_evaluate_scores(lr_results)))\n",
    "\n",
    "# 提升树\n",
    "print('提升树模型：{}'.format(get_evaluate_scores(gbt_results)))\n",
    "\n",
    "# 随机森林\n",
    "print('随机森林模型：{}'.format(get_evaluate_scores(rf_results)))"
   ]
  },
  {
   "cell_type": "code",
   "execution_count": 158,
   "metadata": {},
   "outputs": [
    {
     "name": "stdout",
     "output_type": "stream",
     "text": [
      "The area under ROC for train set is: 0.7819289005924942\n",
      "The area under ROC for test set is: 0.8758314855875834\n"
     ]
    }
   ],
   "source": [
    "# 逻辑回归预测\n",
    "predict_train_lr_ = Model_lr.transform(train)\n",
    "predict_test_lr_ = Model_lr.transform(validation)\n",
    "\n",
    "# 计算roc_auc值\n",
    "\n",
    "print(\"The area under ROC for train set is: {}\".format(evaluator.evaluate(predict_train_lr_)))\n",
    "\n",
    "print(\"The area under ROC for test set is: {}\".format(evaluator.evaluate(predict_test_lr_)))"
   ]
  },
  {
   "cell_type": "code",
   "execution_count": 159,
   "metadata": {},
   "outputs": [
    {
     "name": "stdout",
     "output_type": "stream",
     "text": [
      "The area under ROC for train set is: 0.9671658986175115\n",
      "The area under ROC for test set is: 0.8325942350332596\n"
     ]
    }
   ],
   "source": [
    "## 提升树预测\n",
    "predict_train_gbt_ = Model_gbt.transform(train)\n",
    "predict_test_gbt_ = Model_gbt.transform(validation)\n",
    "\n",
    "# 计算roc_auc值\n",
    "\n",
    "print(\"The area under ROC for train set is: {}\".format(evaluator.evaluate(predict_train_gbt_)))\n",
    "\n",
    "print(\"The area under ROC for test set is: {}\".format(evaluator.evaluate(predict_test_gbt_)))"
   ]
  },
  {
   "cell_type": "code",
   "execution_count": 162,
   "metadata": {},
   "outputs": [
    {
     "name": "stdout",
     "output_type": "stream",
     "text": [
      "The area under ROC for train set is: 0.9349078341013822\n",
      "The area under ROC for test set is: 0.8636363636363639\n"
     ]
    }
   ],
   "source": [
    "# 随机森林预测\n",
    "predict_train_rf_ = Model_rf.transform(train)\n",
    "predict_test_rf_ = Model_rf.transform(validation)\n",
    "\n",
    "# 计算roc_auc值\n",
    "\n",
    "print(\"The area under ROC for train set is: {}\".format(evaluator.evaluate(predict_train_rf_)))\n",
    "\n",
    "print(\"The area under ROC for test set is: {}\".format(evaluator.evaluate(predict_test_rf_)))"
   ]
  },
  {
   "cell_type": "code",
   "execution_count": 144,
   "metadata": {
    "scrolled": true
   },
   "outputs": [
    {
     "name": "stdout",
     "output_type": "stream",
     "text": [
      "([{'elasticNetParam': 1.0}, {'regParam': 0.05}], 0.7776933253921723)\n"
     ]
    }
   ],
   "source": [
    "#逻辑回归\n",
    "best_parameters = [(\n",
    "                [{key.name: paramValue} for key, paramValue in zip(params.keys(),params.values())], metric) \\\n",
    "            for params, metric in zip(\n",
    "                Model_lr.getEstimatorParamMaps(),\n",
    "                Model_lr.avgMetrics)]\n",
    "lr_best_params=sorted(best_parameters,key=lambda el:el[1],reverse=True)[0]\n",
    "print(lr_best_params)"
   ]
  },
  {
   "cell_type": "code",
   "execution_count": 145,
   "metadata": {},
   "outputs": [
    {
     "name": "stdout",
     "output_type": "stream",
     "text": [
      "([{'maxIter': 30}, {'maxBins': 40}, {'maxDepth': 2}], 0.7495034157073681)\n"
     ]
    }
   ],
   "source": [
    "#提升树\n",
    "best_parameters = [(\n",
    "                [{key.name: paramValue} for key, paramValue in zip(params.keys(),params.values())], metric) \\\n",
    "            for params, metric in zip(\n",
    "                Model_gbt.getEstimatorParamMaps(),\n",
    "                Model_gbt.avgMetrics)]\n",
    "gbt_best_params=sorted(best_parameters,key=lambda el:el[1],reverse=True)[0]\n",
    "print(gbt_best_params)"
   ]
  },
  {
   "cell_type": "code",
   "execution_count": 147,
   "metadata": {},
   "outputs": [
    {
     "name": "stdout",
     "output_type": "stream",
     "text": [
      "([{'impurity': 'gini'}, {'maxDepth': 4}], 0.7611382537511129)\n"
     ]
    }
   ],
   "source": [
    "#随机森林\n",
    "best_parameters = [(\n",
    "                [{key.name: paramValue} for key, paramValue in zip(params.keys(),params.values())], metric) \\\n",
    "            for params, metric in zip(\n",
    "                Model_rf.getEstimatorParamMaps(),\n",
    "                Model_rf.avgMetrics)]\n",
    "rf_best_params=sorted(best_parameters,key=lambda el:el[1],reverse=True)[0]\n",
    "print(rf_best_params)"
   ]
  },
  {
   "cell_type": "markdown",
   "metadata": {},
   "source": [
    "# 最后一步\n",
    "清理你的代码，添加注释和重命名变量，使得代码更易读和易于维护。参考 Spark 项目概述页面和数据科学家毕业项目审阅要求，确保你的项目包含了毕业项目要求的所有内容，并且满足所有审阅要求。记得在 GitHub 代码库里包含一份全面的文档——README文件，以及一个网络应用程序或博客文章。"
   ]
  },
  {
   "cell_type": "code",
   "execution_count": null,
   "metadata": {},
   "outputs": [],
   "source": []
  }
 ],
 "metadata": {
  "kernelspec": {
   "display_name": "Python 3",
   "language": "python",
   "name": "python3"
  },
  "language_info": {
   "codemirror_mode": {
    "name": "ipython",
    "version": 3
   },
   "file_extension": ".py",
   "mimetype": "text/x-python",
   "name": "python",
   "nbconvert_exporter": "python",
   "pygments_lexer": "ipython3",
   "version": "3.7.4"
  },
  "toc": {
   "base_numbering": 1,
   "nav_menu": {},
   "number_sections": true,
   "sideBar": true,
   "skip_h1_title": false,
   "title_cell": "Table of Contents",
   "title_sidebar": "Contents",
   "toc_cell": false,
   "toc_position": {},
   "toc_section_display": true,
   "toc_window_display": true
  }
 },
 "nbformat": 4,
 "nbformat_minor": 2
}
